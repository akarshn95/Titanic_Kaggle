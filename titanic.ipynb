{
 "cells": [
  {
   "cell_type": "code",
   "execution_count": 1,
   "metadata": {},
   "outputs": [],
   "source": [
    "import pandas as pd\n",
    "import numpy as np"
   ]
  },
  {
   "cell_type": "code",
   "execution_count": 2,
   "metadata": {},
   "outputs": [],
   "source": [
    "train_df = pd.read_csv('train.csv')\n",
    "test_df = pd.read_csv('test.csv')"
   ]
  },
  {
   "cell_type": "code",
   "execution_count": 3,
   "metadata": {},
   "outputs": [],
   "source": [
    "passengerIDs = test_df['PassengerId']"
   ]
  },
  {
   "cell_type": "code",
   "execution_count": 4,
   "metadata": {},
   "outputs": [
    {
     "output_type": "execute_result",
     "data": {
      "text/plain": "   PassengerId  Survived  Pclass  \\\n0            1         0       3   \n1            2         1       1   \n2            3         1       3   \n3            4         1       1   \n4            5         0       3   \n5            6         0       3   \n6            7         0       1   \n7            8         0       3   \n8            9         1       3   \n9           10         1       2   \n\n                                                Name     Sex   Age  SibSp  \\\n0                            Braund, Mr. Owen Harris    male  22.0      1   \n1  Cumings, Mrs. John Bradley (Florence Briggs Th...  female  38.0      1   \n2                             Heikkinen, Miss. Laina  female  26.0      0   \n3       Futrelle, Mrs. Jacques Heath (Lily May Peel)  female  35.0      1   \n4                           Allen, Mr. William Henry    male  35.0      0   \n5                                   Moran, Mr. James    male   NaN      0   \n6                            McCarthy, Mr. Timothy J    male  54.0      0   \n7                     Palsson, Master. Gosta Leonard    male   2.0      3   \n8  Johnson, Mrs. Oscar W (Elisabeth Vilhelmina Berg)  female  27.0      0   \n9                Nasser, Mrs. Nicholas (Adele Achem)  female  14.0      1   \n\n   Parch            Ticket     Fare Cabin Embarked  \n0      0         A/5 21171   7.2500   NaN        S  \n1      0          PC 17599  71.2833   C85        C  \n2      0  STON/O2. 3101282   7.9250   NaN        S  \n3      0            113803  53.1000  C123        S  \n4      0            373450   8.0500   NaN        S  \n5      0            330877   8.4583   NaN        Q  \n6      0             17463  51.8625   E46        S  \n7      1            349909  21.0750   NaN        S  \n8      2            347742  11.1333   NaN        S  \n9      0            237736  30.0708   NaN        C  ",
      "text/html": "<div>\n<style scoped>\n    .dataframe tbody tr th:only-of-type {\n        vertical-align: middle;\n    }\n\n    .dataframe tbody tr th {\n        vertical-align: top;\n    }\n\n    .dataframe thead th {\n        text-align: right;\n    }\n</style>\n<table border=\"1\" class=\"dataframe\">\n  <thead>\n    <tr style=\"text-align: right;\">\n      <th></th>\n      <th>PassengerId</th>\n      <th>Survived</th>\n      <th>Pclass</th>\n      <th>Name</th>\n      <th>Sex</th>\n      <th>Age</th>\n      <th>SibSp</th>\n      <th>Parch</th>\n      <th>Ticket</th>\n      <th>Fare</th>\n      <th>Cabin</th>\n      <th>Embarked</th>\n    </tr>\n  </thead>\n  <tbody>\n    <tr>\n      <th>0</th>\n      <td>1</td>\n      <td>0</td>\n      <td>3</td>\n      <td>Braund, Mr. Owen Harris</td>\n      <td>male</td>\n      <td>22.0</td>\n      <td>1</td>\n      <td>0</td>\n      <td>A/5 21171</td>\n      <td>7.2500</td>\n      <td>NaN</td>\n      <td>S</td>\n    </tr>\n    <tr>\n      <th>1</th>\n      <td>2</td>\n      <td>1</td>\n      <td>1</td>\n      <td>Cumings, Mrs. John Bradley (Florence Briggs Th...</td>\n      <td>female</td>\n      <td>38.0</td>\n      <td>1</td>\n      <td>0</td>\n      <td>PC 17599</td>\n      <td>71.2833</td>\n      <td>C85</td>\n      <td>C</td>\n    </tr>\n    <tr>\n      <th>2</th>\n      <td>3</td>\n      <td>1</td>\n      <td>3</td>\n      <td>Heikkinen, Miss. Laina</td>\n      <td>female</td>\n      <td>26.0</td>\n      <td>0</td>\n      <td>0</td>\n      <td>STON/O2. 3101282</td>\n      <td>7.9250</td>\n      <td>NaN</td>\n      <td>S</td>\n    </tr>\n    <tr>\n      <th>3</th>\n      <td>4</td>\n      <td>1</td>\n      <td>1</td>\n      <td>Futrelle, Mrs. Jacques Heath (Lily May Peel)</td>\n      <td>female</td>\n      <td>35.0</td>\n      <td>1</td>\n      <td>0</td>\n      <td>113803</td>\n      <td>53.1000</td>\n      <td>C123</td>\n      <td>S</td>\n    </tr>\n    <tr>\n      <th>4</th>\n      <td>5</td>\n      <td>0</td>\n      <td>3</td>\n      <td>Allen, Mr. William Henry</td>\n      <td>male</td>\n      <td>35.0</td>\n      <td>0</td>\n      <td>0</td>\n      <td>373450</td>\n      <td>8.0500</td>\n      <td>NaN</td>\n      <td>S</td>\n    </tr>\n    <tr>\n      <th>5</th>\n      <td>6</td>\n      <td>0</td>\n      <td>3</td>\n      <td>Moran, Mr. James</td>\n      <td>male</td>\n      <td>NaN</td>\n      <td>0</td>\n      <td>0</td>\n      <td>330877</td>\n      <td>8.4583</td>\n      <td>NaN</td>\n      <td>Q</td>\n    </tr>\n    <tr>\n      <th>6</th>\n      <td>7</td>\n      <td>0</td>\n      <td>1</td>\n      <td>McCarthy, Mr. Timothy J</td>\n      <td>male</td>\n      <td>54.0</td>\n      <td>0</td>\n      <td>0</td>\n      <td>17463</td>\n      <td>51.8625</td>\n      <td>E46</td>\n      <td>S</td>\n    </tr>\n    <tr>\n      <th>7</th>\n      <td>8</td>\n      <td>0</td>\n      <td>3</td>\n      <td>Palsson, Master. Gosta Leonard</td>\n      <td>male</td>\n      <td>2.0</td>\n      <td>3</td>\n      <td>1</td>\n      <td>349909</td>\n      <td>21.0750</td>\n      <td>NaN</td>\n      <td>S</td>\n    </tr>\n    <tr>\n      <th>8</th>\n      <td>9</td>\n      <td>1</td>\n      <td>3</td>\n      <td>Johnson, Mrs. Oscar W (Elisabeth Vilhelmina Berg)</td>\n      <td>female</td>\n      <td>27.0</td>\n      <td>0</td>\n      <td>2</td>\n      <td>347742</td>\n      <td>11.1333</td>\n      <td>NaN</td>\n      <td>S</td>\n    </tr>\n    <tr>\n      <th>9</th>\n      <td>10</td>\n      <td>1</td>\n      <td>2</td>\n      <td>Nasser, Mrs. Nicholas (Adele Achem)</td>\n      <td>female</td>\n      <td>14.0</td>\n      <td>1</td>\n      <td>0</td>\n      <td>237736</td>\n      <td>30.0708</td>\n      <td>NaN</td>\n      <td>C</td>\n    </tr>\n  </tbody>\n</table>\n</div>"
     },
     "metadata": {},
     "execution_count": 4
    }
   ],
   "source": [
    "train_df.head(10)"
   ]
  },
  {
   "cell_type": "code",
   "execution_count": 5,
   "metadata": {},
   "outputs": [
    {
     "output_type": "execute_result",
     "data": {
      "text/plain": "891"
     },
     "metadata": {},
     "execution_count": 5
    }
   ],
   "source": [
    "total = train_df.shape[0]\n",
    "total"
   ]
  },
  {
   "cell_type": "code",
   "execution_count": 6,
   "metadata": {},
   "outputs": [
    {
     "output_type": "execute_result",
     "data": {
      "text/plain": "678"
     },
     "metadata": {},
     "execution_count": 6
    }
   ],
   "source": [
    "num_parch = train_df[train_df['Parch']==0].shape[0]\n",
    "num_parch"
   ]
  },
  {
   "cell_type": "code",
   "execution_count": 7,
   "metadata": {
    "tags": []
   },
   "outputs": [
    {
     "output_type": "stream",
     "name": "stdout",
     "text": "The percentage of people who did not travel with parents or children is 76.094\n"
    }
   ],
   "source": [
    "print(\"The percentage of people who did not travel with parents or children is\", round(num_parch/total*100,3))"
   ]
  },
  {
   "cell_type": "code",
   "execution_count": 8,
   "metadata": {},
   "outputs": [
    {
     "output_type": "execute_result",
     "data": {
      "text/plain": "283"
     },
     "metadata": {},
     "execution_count": 8
    }
   ],
   "source": [
    "num_ss = train_df[train_df['SibSp']>0].shape[0]\n",
    "num_ss"
   ]
  },
  {
   "cell_type": "code",
   "execution_count": 9,
   "metadata": {
    "tags": []
   },
   "outputs": [
    {
     "output_type": "stream",
     "name": "stdout",
     "text": "The percentage of people had siblings or spouses on-board is 31.762\n"
    }
   ],
   "source": [
    "print(\"The percentage of people had siblings or spouses on-board is\", round(num_ss/total*100,3))"
   ]
  },
  {
   "cell_type": "code",
   "execution_count": 10,
   "metadata": {},
   "outputs": [
    {
     "output_type": "execute_result",
     "data": {
      "text/plain": "3"
     },
     "metadata": {},
     "execution_count": 10
    }
   ],
   "source": [
    "num_500 = train_df[train_df['Fare']>=500].shape[0]\n",
    "num_500"
   ]
  },
  {
   "cell_type": "code",
   "execution_count": 11,
   "metadata": {
    "tags": []
   },
   "outputs": [
    {
     "output_type": "stream",
     "name": "stdout",
     "text": "The percentage of people who paid fare as high as $500 is 0.337\n"
    }
   ],
   "source": [
    "print(\"The percentage of people who paid fare as high as $500 is\", round(num_500/total*100,3))"
   ]
  },
  {
   "cell_type": "code",
   "execution_count": 12,
   "metadata": {},
   "outputs": [
    {
     "output_type": "execute_result",
     "data": {
      "text/plain": "8"
     },
     "metadata": {},
     "execution_count": 12
    }
   ],
   "source": [
    "num_65 = train_df[train_df['Age']>65].shape[0]\n",
    "num_65"
   ]
  },
  {
   "cell_type": "code",
   "execution_count": 13,
   "metadata": {
    "tags": []
   },
   "outputs": [
    {
     "output_type": "stream",
     "name": "stdout",
     "text": "The percentage of people who are older than 65 years is 0.898\n"
    }
   ],
   "source": [
    "print(\"The percentage of people who are older than 65 years is\", round(num_65/total*100,3))"
   ]
  },
  {
   "cell_type": "code",
   "execution_count": 14,
   "metadata": {},
   "outputs": [],
   "source": [
    "# dropping the columns\n",
    "train_df.drop(columns=['PassengerId','Name','Ticket','Cabin'], inplace=True, axis=1)\n",
    "test_df.drop(columns=['PassengerId','Name','Ticket','Cabin'], inplace=True, axis=1)"
   ]
  },
  {
   "cell_type": "code",
   "execution_count": 15,
   "metadata": {},
   "outputs": [
    {
     "output_type": "execute_result",
     "data": {
      "text/plain": "   Survived  Pclass     Sex   Age  SibSp  Parch     Fare Embarked\n0         0       3    male  22.0      1      0   7.2500        S\n1         1       1  female  38.0      1      0  71.2833        C\n2         1       3  female  26.0      0      0   7.9250        S\n3         1       1  female  35.0      1      0  53.1000        S\n4         0       3    male  35.0      0      0   8.0500        S",
      "text/html": "<div>\n<style scoped>\n    .dataframe tbody tr th:only-of-type {\n        vertical-align: middle;\n    }\n\n    .dataframe tbody tr th {\n        vertical-align: top;\n    }\n\n    .dataframe thead th {\n        text-align: right;\n    }\n</style>\n<table border=\"1\" class=\"dataframe\">\n  <thead>\n    <tr style=\"text-align: right;\">\n      <th></th>\n      <th>Survived</th>\n      <th>Pclass</th>\n      <th>Sex</th>\n      <th>Age</th>\n      <th>SibSp</th>\n      <th>Parch</th>\n      <th>Fare</th>\n      <th>Embarked</th>\n    </tr>\n  </thead>\n  <tbody>\n    <tr>\n      <th>0</th>\n      <td>0</td>\n      <td>3</td>\n      <td>male</td>\n      <td>22.0</td>\n      <td>1</td>\n      <td>0</td>\n      <td>7.2500</td>\n      <td>S</td>\n    </tr>\n    <tr>\n      <th>1</th>\n      <td>1</td>\n      <td>1</td>\n      <td>female</td>\n      <td>38.0</td>\n      <td>1</td>\n      <td>0</td>\n      <td>71.2833</td>\n      <td>C</td>\n    </tr>\n    <tr>\n      <th>2</th>\n      <td>1</td>\n      <td>3</td>\n      <td>female</td>\n      <td>26.0</td>\n      <td>0</td>\n      <td>0</td>\n      <td>7.9250</td>\n      <td>S</td>\n    </tr>\n    <tr>\n      <th>3</th>\n      <td>1</td>\n      <td>1</td>\n      <td>female</td>\n      <td>35.0</td>\n      <td>1</td>\n      <td>0</td>\n      <td>53.1000</td>\n      <td>S</td>\n    </tr>\n    <tr>\n      <th>4</th>\n      <td>0</td>\n      <td>3</td>\n      <td>male</td>\n      <td>35.0</td>\n      <td>0</td>\n      <td>0</td>\n      <td>8.0500</td>\n      <td>S</td>\n    </tr>\n  </tbody>\n</table>\n</div>"
     },
     "metadata": {},
     "execution_count": 15
    }
   ],
   "source": [
    "train_df.head()"
   ]
  },
  {
   "cell_type": "code",
   "execution_count": 16,
   "metadata": {},
   "outputs": [
    {
     "output_type": "execute_result",
     "data": {
      "text/plain": "S    644\nC    168\nQ     77\nName: Embarked, dtype: int64"
     },
     "metadata": {},
     "execution_count": 16
    }
   ],
   "source": [
    "train_df['Embarked'].value_counts()"
   ]
  },
  {
   "cell_type": "code",
   "execution_count": 17,
   "metadata": {},
   "outputs": [],
   "source": [
    "train_df['Embarked'].fillna(train_df['Embarked'].value_counts().index[0], inplace=True)\n",
    "test_df['Embarked'].fillna(test_df['Embarked'].value_counts().index[0], inplace=True)"
   ]
  },
  {
   "cell_type": "code",
   "execution_count": 18,
   "metadata": {
    "tags": []
   },
   "outputs": [
    {
     "output_type": "stream",
     "name": "stdout",
     "text": "0\n0\n"
    }
   ],
   "source": [
    "print(train_df['Embarked'].isna().sum())\n",
    "print(test_df['Embarked'].isna().sum())"
   ]
  },
  {
   "cell_type": "code",
   "execution_count": 19,
   "metadata": {},
   "outputs": [
    {
     "output_type": "execute_result",
     "data": {
      "text/plain": "14.4542"
     },
     "metadata": {},
     "execution_count": 19
    }
   ],
   "source": [
    "median_fare_train = np.median(train_df['Fare'])\n",
    "median_fare_test = np.median(test_df[test_df['Fare']>=0]['Fare'])\n",
    "median_fare_test"
   ]
  },
  {
   "cell_type": "code",
   "execution_count": 20,
   "metadata": {},
   "outputs": [],
   "source": [
    "for idx in train_df[train_df['Fare'].isna()==True].index:\n",
    "    train_df.iloc[idx,6] = median_fare_train"
   ]
  },
  {
   "cell_type": "code",
   "execution_count": 21,
   "metadata": {
    "tags": []
   },
   "outputs": [],
   "source": [
    "for idx in test_df[test_df['Fare'].isna()==True].index:\n",
    "    test_df.iloc[idx,5] = median_fare_test"
   ]
  },
  {
   "cell_type": "code",
   "execution_count": 22,
   "metadata": {},
   "outputs": [
    {
     "output_type": "execute_result",
     "data": {
      "text/plain": "Survived      0\nPclass        0\nSex           0\nAge         177\nSibSp         0\nParch         0\nFare          0\nEmbarked      0\ndtype: int64"
     },
     "metadata": {},
     "execution_count": 22
    }
   ],
   "source": [
    "train_df.isna().sum()"
   ]
  },
  {
   "cell_type": "code",
   "execution_count": 23,
   "metadata": {},
   "outputs": [
    {
     "output_type": "execute_result",
     "data": {
      "text/plain": "Pclass       0\nSex          0\nAge         86\nSibSp        0\nParch        0\nFare         0\nEmbarked     0\ndtype: int64"
     },
     "metadata": {},
     "execution_count": 23
    }
   ],
   "source": [
    "test_df.isna().sum()"
   ]
  },
  {
   "cell_type": "code",
   "execution_count": 24,
   "metadata": {},
   "outputs": [],
   "source": [
    "age_fill_train = {}\n",
    "for s in train_df.Sex.unique():\n",
    "    for p in train_df.Pclass.unique():\n",
    "        age_fill_train[(s,p)] = np.median(train_df[(train_df['Pclass']==p) & (train_df['Sex']==s)]['Fare'])"
   ]
  },
  {
   "cell_type": "code",
   "execution_count": 25,
   "metadata": {},
   "outputs": [],
   "source": [
    "age_fill_test = {}\n",
    "for s in test_df.Sex.unique():\n",
    "    for p in test_df.Pclass.unique():\n",
    "        age_fill_test[(s,p)] = np.median(test_df[(test_df['Pclass']==p) & (test_df['Sex']==s)]['Fare'])"
   ]
  },
  {
   "cell_type": "code",
   "execution_count": 26,
   "metadata": {
    "tags": []
   },
   "outputs": [
    {
     "output_type": "stream",
     "name": "stdout",
     "text": "{('male', 3): 7.925, ('male', 1): 41.2625, ('male', 2): 13.0, ('female', 3): 12.475, ('female', 1): 82.66454999999999, ('female', 2): 22.0}\n{('male', 3): 7.8958, ('male', 2): 13.0, ('male', 1): 51.8625, ('female', 3): 8.08125, ('female', 2): 26.0, ('female', 1): 79.025}\n"
    }
   ],
   "source": [
    "print(age_fill_train)\n",
    "print(age_fill_test)"
   ]
  },
  {
   "cell_type": "code",
   "execution_count": 27,
   "metadata": {},
   "outputs": [],
   "source": [
    "#age_fill_test[('male',3)] = np.mean(test_df[test_df['Sex']=='male']['Age'])"
   ]
  },
  {
   "cell_type": "code",
   "execution_count": 28,
   "metadata": {},
   "outputs": [],
   "source": [
    "for idx in train_df[train_df['Age'].isna()==True].index:\n",
    "    train_df.iloc[idx,3] = age_fill_train[(train_df.iloc[idx,2], train_df.iloc[idx,1])]"
   ]
  },
  {
   "cell_type": "code",
   "execution_count": 29,
   "metadata": {},
   "outputs": [],
   "source": [
    "for idx in test_df[test_df['Age'].isna()==True].index:\n",
    "    test_df.iloc[idx,2] = age_fill_test[(test_df.iloc[idx,1], test_df.iloc[idx,0])]"
   ]
  },
  {
   "cell_type": "code",
   "execution_count": 30,
   "metadata": {},
   "outputs": [
    {
     "output_type": "execute_result",
     "data": {
      "text/plain": "Survived    0\nPclass      0\nSex         0\nAge         0\nSibSp       0\nParch       0\nFare        0\nEmbarked    0\ndtype: int64"
     },
     "metadata": {},
     "execution_count": 30
    }
   ],
   "source": [
    "train_df.isnull().sum()"
   ]
  },
  {
   "cell_type": "code",
   "execution_count": 31,
   "metadata": {},
   "outputs": [
    {
     "output_type": "execute_result",
     "data": {
      "text/plain": "Pclass      0\nSex         0\nAge         0\nSibSp       0\nParch       0\nFare        0\nEmbarked    0\ndtype: int64"
     },
     "metadata": {},
     "execution_count": 31
    }
   ],
   "source": [
    "test_df.isnull().sum()"
   ]
  },
  {
   "cell_type": "code",
   "execution_count": 32,
   "metadata": {},
   "outputs": [
    {
     "output_type": "execute_result",
     "data": {
      "text/plain": "803     0.42000\n755     0.67000\n644     0.75000\n469     0.75000\n78      0.83000\n         ...   \n457    82.66455\n166    82.66455\n31     82.66455\n334    82.66455\n306    82.66455\nName: Age, Length: 891, dtype: float64"
     },
     "metadata": {},
     "execution_count": 32
    }
   ],
   "source": [
    "train_df.Age.sort_values()"
   ]
  },
  {
   "cell_type": "code",
   "execution_count": 33,
   "metadata": {},
   "outputs": [
    {
     "output_type": "execute_result",
     "data": {
      "text/plain": "271      0.0000\n597      0.0000\n302      0.0000\n633      0.0000\n277      0.0000\n         ...   \n438    263.0000\n341    263.0000\n737    512.3292\n258    512.3292\n679    512.3292\nName: Fare, Length: 891, dtype: float64"
     },
     "metadata": {},
     "execution_count": 33
    }
   ],
   "source": [
    "train_df.Fare.sort_values()"
   ]
  },
  {
   "cell_type": "code",
   "execution_count": 34,
   "metadata": {},
   "outputs": [],
   "source": [
    "train_df['age_c'] = pd.cut(train_df.Age, bins=[0, 16, 32, 48, 64, 100], labels=['child','young_adult','adult','old_adult','elderly'])\n",
    "train_df['fare_c'] = pd.cut(train_df.Fare, bins= [0, 7.9, 14.5, 31, 100, 550], labels=['a','b','c','d','e'])"
   ]
  },
  {
   "cell_type": "code",
   "execution_count": 35,
   "metadata": {},
   "outputs": [],
   "source": [
    "test_df['age_c'] = pd.cut(test_df.Age, bins=[0, 16, 32, 48, 64, 100], labels=['child','young_adult','adult','old_adult','elderly'])\n",
    "test_df['fare_c'] = pd.cut(test_df.Fare, bins= [0, 7.9, 14.5, 31, 100, 550], labels=['a','b','c','d','e'])"
   ]
  },
  {
   "cell_type": "code",
   "execution_count": 36,
   "metadata": {},
   "outputs": [],
   "source": [
    "train_df['size'] = train_df['SibSp'] + train_df['Parch']\n",
    "test_df['size'] = test_df['SibSp'] + test_df['Parch']"
   ]
  },
  {
   "cell_type": "code",
   "execution_count": 37,
   "metadata": {},
   "outputs": [],
   "source": [
    "train_df.drop(columns=['SibSp','Parch','Age','Fare'], axis=1, inplace=True)\n",
    "test_df.drop(columns=['SibSp','Parch','Age','Fare'], axis=1, inplace=True)"
   ]
  },
  {
   "cell_type": "code",
   "execution_count": 38,
   "metadata": {
    "tags": []
   },
   "outputs": [
    {
     "output_type": "stream",
     "name": "stdout",
     "text": "<class 'pandas.core.frame.DataFrame'>\nRangeIndex: 891 entries, 0 to 890\nData columns (total 7 columns):\n #   Column    Non-Null Count  Dtype   \n---  ------    --------------  -----   \n 0   Survived  891 non-null    int64   \n 1   Pclass    891 non-null    int64   \n 2   Sex       891 non-null    object  \n 3   Embarked  891 non-null    object  \n 4   age_c     891 non-null    category\n 5   fare_c    876 non-null    category\n 6   size      891 non-null    int64   \ndtypes: category(2), int64(3), object(2)\nmemory usage: 37.1+ KB\n"
    }
   ],
   "source": [
    "train_df.info()"
   ]
  },
  {
   "cell_type": "code",
   "execution_count": 39,
   "metadata": {},
   "outputs": [],
   "source": [
    "train_df['alone'] = train_df['size']\n",
    "train_df['alone'] = train_df['alone'].apply(lambda x: 1 if x > 0 else 0)"
   ]
  },
  {
   "cell_type": "code",
   "execution_count": 40,
   "metadata": {},
   "outputs": [],
   "source": [
    "test_df['alone'] = test_df['size']\n",
    "test_df['alone'] = test_df['alone'].apply(lambda x: 1 if x > 0 else 0)"
   ]
  },
  {
   "cell_type": "code",
   "execution_count": 41,
   "metadata": {
    "tags": []
   },
   "outputs": [],
   "source": [
    "train_df['Pclass'] = train_df['Pclass'].astype('category')\n",
    "test_df['Pclass'] = test_df['Pclass'].astype('category')"
   ]
  },
  {
   "cell_type": "code",
   "execution_count": 42,
   "metadata": {},
   "outputs": [],
   "source": [
    "train_df['alone'] = train_df['alone'].astype('category')\n",
    "test_df['alone'] = test_df['alone'].astype('category')"
   ]
  },
  {
   "cell_type": "code",
   "execution_count": 43,
   "metadata": {
    "tags": []
   },
   "outputs": [
    {
     "output_type": "stream",
     "name": "stdout",
     "text": "<class 'pandas.core.frame.DataFrame'>\nRangeIndex: 418 entries, 0 to 417\nData columns (total 7 columns):\n #   Column    Non-Null Count  Dtype   \n---  ------    --------------  -----   \n 0   Pclass    418 non-null    category\n 1   Sex       418 non-null    object  \n 2   Embarked  418 non-null    object  \n 3   age_c     418 non-null    category\n 4   fare_c    416 non-null    category\n 5   size      418 non-null    int64   \n 6   alone     418 non-null    category\ndtypes: category(4), int64(1), object(2)\nmemory usage: 12.1+ KB\n"
    }
   ],
   "source": [
    "test_df.info()"
   ]
  },
  {
   "cell_type": "code",
   "execution_count": 44,
   "metadata": {
    "tags": []
   },
   "outputs": [],
   "source": [
    "train_df = pd.get_dummies(train_df, drop_first=True)\n",
    "test_df = pd.get_dummies(test_df, drop_first=True)"
   ]
  },
  {
   "cell_type": "code",
   "execution_count": 45,
   "metadata": {
    "tags": []
   },
   "outputs": [
    {
     "output_type": "stream",
     "name": "stdout",
     "text": "<class 'pandas.core.frame.DataFrame'>\nRangeIndex: 418 entries, 0 to 417\nData columns (total 15 columns):\n #   Column             Non-Null Count  Dtype\n---  ------             --------------  -----\n 0   size               418 non-null    int64\n 1   Pclass_2           418 non-null    uint8\n 2   Pclass_3           418 non-null    uint8\n 3   Sex_male           418 non-null    uint8\n 4   Embarked_Q         418 non-null    uint8\n 5   Embarked_S         418 non-null    uint8\n 6   age_c_young_adult  418 non-null    uint8\n 7   age_c_adult        418 non-null    uint8\n 8   age_c_old_adult    418 non-null    uint8\n 9   age_c_elderly      418 non-null    uint8\n 10  fare_c_b           418 non-null    uint8\n 11  fare_c_c           418 non-null    uint8\n 12  fare_c_d           418 non-null    uint8\n 13  fare_c_e           418 non-null    uint8\n 14  alone_1            418 non-null    uint8\ndtypes: int64(1), uint8(14)\nmemory usage: 9.1 KB\n"
    }
   ],
   "source": [
    "test_df.info()"
   ]
  },
  {
   "cell_type": "code",
   "execution_count": 46,
   "metadata": {
    "tags": []
   },
   "outputs": [
    {
     "output_type": "stream",
     "name": "stdout",
     "text": "(891, 16)\n"
    },
    {
     "output_type": "execute_result",
     "data": {
      "text/plain": "   Survived  size  Pclass_2  Pclass_3  Sex_male  Embarked_Q  Embarked_S  \\\n0         0     1         0         1         1           0           1   \n1         1     1         0         0         0           0           0   \n2         1     0         0         1         0           0           1   \n3         1     1         0         0         0           0           1   \n4         0     0         0         1         1           0           1   \n\n   age_c_young_adult  age_c_adult  age_c_old_adult  age_c_elderly  fare_c_b  \\\n0                  1            0                0              0         0   \n1                  0            1                0              0         0   \n2                  1            0                0              0         1   \n3                  0            1                0              0         0   \n4                  0            1                0              0         1   \n\n   fare_c_c  fare_c_d  fare_c_e  alone_1  \n0         0         0         0        1  \n1         0         1         0        1  \n2         0         0         0        0  \n3         0         1         0        1  \n4         0         0         0        0  ",
      "text/html": "<div>\n<style scoped>\n    .dataframe tbody tr th:only-of-type {\n        vertical-align: middle;\n    }\n\n    .dataframe tbody tr th {\n        vertical-align: top;\n    }\n\n    .dataframe thead th {\n        text-align: right;\n    }\n</style>\n<table border=\"1\" class=\"dataframe\">\n  <thead>\n    <tr style=\"text-align: right;\">\n      <th></th>\n      <th>Survived</th>\n      <th>size</th>\n      <th>Pclass_2</th>\n      <th>Pclass_3</th>\n      <th>Sex_male</th>\n      <th>Embarked_Q</th>\n      <th>Embarked_S</th>\n      <th>age_c_young_adult</th>\n      <th>age_c_adult</th>\n      <th>age_c_old_adult</th>\n      <th>age_c_elderly</th>\n      <th>fare_c_b</th>\n      <th>fare_c_c</th>\n      <th>fare_c_d</th>\n      <th>fare_c_e</th>\n      <th>alone_1</th>\n    </tr>\n  </thead>\n  <tbody>\n    <tr>\n      <th>0</th>\n      <td>0</td>\n      <td>1</td>\n      <td>0</td>\n      <td>1</td>\n      <td>1</td>\n      <td>0</td>\n      <td>1</td>\n      <td>1</td>\n      <td>0</td>\n      <td>0</td>\n      <td>0</td>\n      <td>0</td>\n      <td>0</td>\n      <td>0</td>\n      <td>0</td>\n      <td>1</td>\n    </tr>\n    <tr>\n      <th>1</th>\n      <td>1</td>\n      <td>1</td>\n      <td>0</td>\n      <td>0</td>\n      <td>0</td>\n      <td>0</td>\n      <td>0</td>\n      <td>0</td>\n      <td>1</td>\n      <td>0</td>\n      <td>0</td>\n      <td>0</td>\n      <td>0</td>\n      <td>1</td>\n      <td>0</td>\n      <td>1</td>\n    </tr>\n    <tr>\n      <th>2</th>\n      <td>1</td>\n      <td>0</td>\n      <td>0</td>\n      <td>1</td>\n      <td>0</td>\n      <td>0</td>\n      <td>1</td>\n      <td>1</td>\n      <td>0</td>\n      <td>0</td>\n      <td>0</td>\n      <td>1</td>\n      <td>0</td>\n      <td>0</td>\n      <td>0</td>\n      <td>0</td>\n    </tr>\n    <tr>\n      <th>3</th>\n      <td>1</td>\n      <td>1</td>\n      <td>0</td>\n      <td>0</td>\n      <td>0</td>\n      <td>0</td>\n      <td>1</td>\n      <td>0</td>\n      <td>1</td>\n      <td>0</td>\n      <td>0</td>\n      <td>0</td>\n      <td>0</td>\n      <td>1</td>\n      <td>0</td>\n      <td>1</td>\n    </tr>\n    <tr>\n      <th>4</th>\n      <td>0</td>\n      <td>0</td>\n      <td>0</td>\n      <td>1</td>\n      <td>1</td>\n      <td>0</td>\n      <td>1</td>\n      <td>0</td>\n      <td>1</td>\n      <td>0</td>\n      <td>0</td>\n      <td>1</td>\n      <td>0</td>\n      <td>0</td>\n      <td>0</td>\n      <td>0</td>\n    </tr>\n  </tbody>\n</table>\n</div>"
     },
     "metadata": {},
     "execution_count": 46
    }
   ],
   "source": [
    "print(train_df.shape)\n",
    "train_df.head()"
   ]
  },
  {
   "cell_type": "code",
   "execution_count": 47,
   "metadata": {},
   "outputs": [
    {
     "output_type": "execute_result",
     "data": {
      "text/plain": "array([0.1, 0. , 0.4, 0.2, 0.6, 0.5, 0.3, 0.7, 1. ])"
     },
     "metadata": {},
     "execution_count": 47
    }
   ],
   "source": [
    "from sklearn.preprocessing import MinMaxScaler\n",
    "mm = MinMaxScaler()\n",
    "train_df['size'] = mm.fit_transform(np.array(train_df['size']).reshape(-1,1))\n",
    "train_df['size'].unique()"
   ]
  },
  {
   "cell_type": "code",
   "execution_count": 48,
   "metadata": {},
   "outputs": [
    {
     "output_type": "execute_result",
     "data": {
      "text/plain": "array([0. , 0.1, 0.2, 0.4, 0.3, 0.5, 0.7, 0.6, 1. ])"
     },
     "metadata": {},
     "execution_count": 48
    }
   ],
   "source": [
    "test_df['size'] = mm.fit_transform(np.array(test_df['size']).reshape(-1,1))\n",
    "test_df['size'].unique()"
   ]
  },
  {
   "cell_type": "markdown",
   "metadata": {},
   "source": [
    "### Training the Models"
   ]
  },
  {
   "cell_type": "code",
   "execution_count": 50,
   "metadata": {},
   "outputs": [],
   "source": [
    "from sklearn.model_selection import train_test_split\n",
    "from sklearn.neighbors import KNeighborsClassifier\n",
    "from sklearn.model_selection import GridSearchCV\n",
    "from sklearn.metrics import f1_score, confusion_matrix\n",
    "from sklearn.svm import SVC\n",
    "from sklearn.linear_model import LogisticRegression\n",
    "from sklearn.ensemble import RandomForestClassifier\n",
    "from sklearn.ensemble import GradientBoostingClassifier"
   ]
  },
  {
   "cell_type": "code",
   "execution_count": 70,
   "metadata": {},
   "outputs": [],
   "source": [
    "X = train_df.drop(columns = 'Survived')\n",
    "y = train_df['Survived']\n",
    "\n",
    "X_train, X_test, y_train, y_test = train_test_split(X, y, test_size=0.1 , random_state=0)"
   ]
  },
  {
   "cell_type": "markdown",
   "metadata": {},
   "source": [
    "### KNN"
   ]
  },
  {
   "cell_type": "code",
   "execution_count": 71,
   "metadata": {
    "tags": []
   },
   "outputs": [
    {
     "output_type": "stream",
     "name": "stdout",
     "text": "Fitting 5 folds for each of 16 candidates, totalling 80 fits\n[Parallel(n_jobs=-1)]: Using backend LokyBackend with 4 concurrent workers.\n[Parallel(n_jobs=-1)]: Done  42 tasks      | elapsed:    5.9s\n[Parallel(n_jobs=-1)]: Done  73 out of  80 | elapsed:    6.4s remaining:    0.6s\n[Parallel(n_jobs=-1)]: Done  80 out of  80 | elapsed:    6.4s finished\n"
    },
    {
     "output_type": "execute_result",
     "data": {
      "text/plain": "{'n_neighbors': 6}"
     },
     "metadata": {},
     "execution_count": 71
    }
   ],
   "source": [
    "param_grid = {'n_neighbors':[3,4,5,6,7,8,9,10,12,15,20,25,30,50,60,100]}\n",
    "grid_knn = GridSearchCV(KNeighborsClassifier(), param_grid, verbose = 1, cv = 5, n_jobs = -1)\n",
    "grid_knn.fit(X_train, y_train)\n",
    "grid_knn.best_params_"
   ]
  },
  {
   "cell_type": "code",
   "execution_count": 72,
   "metadata": {
    "tags": []
   },
   "outputs": [
    {
     "output_type": "stream",
     "name": "stdout",
     "text": "Test Accuracy score:  0.8\nConfusion Matrix \n [[46  5]\n [13 26]]\n"
    }
   ],
   "source": [
    "knn = KNeighborsClassifier(n_neighbors=6)\n",
    "knn.fit(X_train, y_train)\n",
    "\n",
    "score_knn = knn.score(X_test, y_test)\n",
    "y_pred_knn = knn.predict(X_test)\n",
    "\n",
    "print('Test Accuracy score: ', score_knn)\n",
    "print('Confusion Matrix','\\n', confusion_matrix(y_test, y_pred_knn))"
   ]
  },
  {
   "cell_type": "markdown",
   "metadata": {},
   "source": [
    "### Support Vector Classifier"
   ]
  },
  {
   "cell_type": "code",
   "execution_count": 85,
   "metadata": {
    "tags": []
   },
   "outputs": [
    {
     "output_type": "stream",
     "name": "stdout",
     "text": "Fitting 5 folds for each of 240 candidates, totalling 1200 fits\n[Parallel(n_jobs=-1)]: Using backend LokyBackend with 4 concurrent workers.\n[Parallel(n_jobs=-1)]: Done  12 tasks      | elapsed:    0.4s\n[Parallel(n_jobs=-1)]: Done 120 tasks      | elapsed:    3.5s\n[Parallel(n_jobs=-1)]: Done 300 tasks      | elapsed:    8.0s\n[Parallel(n_jobs=-1)]: Done 552 tasks      | elapsed:   14.0s\n[Parallel(n_jobs=-1)]: Done 876 tasks      | elapsed:   21.5s\n[Parallel(n_jobs=-1)]: Done 1200 out of 1200 | elapsed:   35.2s finished\n"
    },
    {
     "output_type": "execute_result",
     "data": {
      "text/plain": "{'C': 1, 'degree': 2, 'gamma': 'scale', 'kernel': 'poly'}"
     },
     "metadata": {},
     "execution_count": 85
    }
   ],
   "source": [
    "param_grid = {'kernel':['linear', 'poly', 'rbf', 'sigmoid'],  'gamma': ['scale','auto'], 'C':[0.001,0.1,0.0001,10,1,100], 'degree':[3,4,5,2,6]}  \n",
    "grid_svc = GridSearchCV(SVC(), param_grid, verbose = 5, cv = 5, n_jobs = -1) \n",
    "grid_svc.fit(X_train, y_train)\n",
    "grid_svc.best_params_"
   ]
  },
  {
   "cell_type": "code",
   "execution_count": 86,
   "metadata": {
    "tags": []
   },
   "outputs": [
    {
     "output_type": "stream",
     "name": "stdout",
     "text": "Test Accuracy score:  0.8111111111111111\nConfusion Matrix \n [[48  3]\n [14 25]]\n"
    }
   ],
   "source": [
    "svc = SVC(C=1, gamma='scale', kernel='poly', degree=2)\n",
    "svc.fit(X_train, y_train)\n",
    "\n",
    "score_svc = svc.score(X_test, y_test)\n",
    "y_pred_svc = svc.predict(X_test)\n",
    "\n",
    "print('Test Accuracy score: ', score_svc)\n",
    "print('Confusion Matrix','\\n', confusion_matrix(y_test, y_pred_svc))"
   ]
  },
  {
   "cell_type": "markdown",
   "metadata": {},
   "source": [
    "### Logistic Regression"
   ]
  },
  {
   "cell_type": "code",
   "execution_count": 63,
   "metadata": {
    "tags": []
   },
   "outputs": [
    {
     "output_type": "stream",
     "name": "stdout",
     "text": "Fitting 5 folds for each of 675 candidates, totalling 3375 fits\n[Parallel(n_jobs=-1)]: Using backend LokyBackend with 4 concurrent workers.\n[Parallel(n_jobs=-1)]: Done  56 tasks      | elapsed:    0.8s\n[Parallel(n_jobs=-1)]: Done 776 tasks      | elapsed:    5.1s\n[Parallel(n_jobs=-1)]: Done 2056 tasks      | elapsed:   13.6s\n[Parallel(n_jobs=-1)]: Done 3375 out of 3375 | elapsed:   23.5s finished\n"
    },
    {
     "output_type": "execute_result",
     "data": {
      "text/plain": "{'C': 10, 'max_iter': 100, 'penalty': 'l2', 'solver': 'newton-cg'}"
     },
     "metadata": {},
     "execution_count": 63
    }
   ],
   "source": [
    "param_grid = {'C' : [0.1,0.001,0.0001,1,0.000001,10,100,1000,10000], 'penalty' : ['l1','l2','elasticnet'], 'solver' :['newton-cg', 'lbfgs', 'liblinear', 'sag', 'saga'], 'max_iter':[100,200,300,400,1000]}\n",
    "grid_lr = GridSearchCV(LogisticRegression(), param_grid, verbose = 3, cv = 5, n_jobs = -1)\n",
    "grid_lr.fit(X_train, y_train)\n",
    "grid_lr.best_params_"
   ]
  },
  {
   "cell_type": "code",
   "execution_count": 65,
   "metadata": {
    "tags": []
   },
   "outputs": [
    {
     "output_type": "stream",
     "name": "stdout",
     "text": "Test Accuracy score:  0.8111111111111111\nConfusion Matrix \n [[45  6]\n [11 28]]\n"
    }
   ],
   "source": [
    "lr = LogisticRegression(C=10, penalty='l2', solver='newton-cg', max_iter=100)\n",
    "lr.fit(X_train, y_train)\n",
    "\n",
    "score_lr = lr.score(X_test, y_test)\n",
    "y_pred_lr = lr.predict(X_test)\n",
    "\n",
    "print('Test Accuracy score: ', score_lr)\n",
    "print('Confusion Matrix','\\n', confusion_matrix(y_test, y_pred_lr))"
   ]
  },
  {
   "cell_type": "markdown",
   "metadata": {},
   "source": [
    "### Random Forest"
   ]
  },
  {
   "cell_type": "code",
   "execution_count": null,
   "metadata": {
    "tags": []
   },
   "outputs": [],
   "source": [
    "param_grid = {'n_estimators': [100,200,300,400,500], 'max_features': ['log2',15],'max_depth': [10,5,50,100,200,400,500], 'criterion':['gini','entropy'], 'min_samples_split' : [10,5,2,20,30], 'min_samples_leaf':[10,5,20,30,50]}\n",
    "grid_rf = GridSearchCV(RandomForestClassifier(), param_grid, verbose = 4, cv = 5, n_jobs = -1)\n",
    "grid_rf.fit(X_train, y_train)\n",
    "grid_rf.best_params_"
   ]
  },
  {
   "cell_type": "code",
   "execution_count": 66,
   "metadata": {
    "tags": []
   },
   "outputs": [
    {
     "output_type": "stream",
     "name": "stdout",
     "text": "0.8239700374531835\nTest Accuracy score:  0.8111111111111111\nConfusion Matrix \n [[48  3]\n [14 25]]\n"
    }
   ],
   "source": [
    "rf = RandomForestClassifier(criterion='gini',max_depth=100,max_features='auto',min_samples_leaf=10,min_samples_split=2,n_estimators=100)\n",
    "rf.fit(X_train, y_train)\n",
    "\n",
    "score_rf = rf.score(X_test, y_test)\n",
    "y_pred_rf = rf.predict(X_test)\n",
    "\n",
    "print(rf.score(X_train,y_train))\n",
    "print('Test Accuracy score: ', score_rf)\n",
    "print('Confusion Matrix','\\n', confusion_matrix(y_test, y_pred_rf))"
   ]
  },
  {
   "cell_type": "markdown",
   "metadata": {},
   "source": [
    "### Gradient Boosting"
   ]
  },
  {
   "cell_type": "code",
   "execution_count": null,
   "metadata": {
    "tags": []
   },
   "outputs": [],
   "source": [
    "param_grid = {\n",
    "    \"learning_rate\": [0.01, 0.025, 0.05, 0.075, 0.1, 0.15, 0.2, 0.5, 1.0,0.0001,1,0.3],\n",
    "    \"max_depth\":[10,50,100],\n",
    "    \"n_estimators\":[30,50,100,200,400,500],'min_samples_split' : [10,5,2,20,30], 'min_samples_leaf':[10,5,20,30,50]\n",
    "    }\n",
    "grid_gb = GridSearchCV(GradientBoostingClassifier(), param_grid, verbose = 4, cv = 4, n_jobs = -1)\n",
    "grid_gb.fit(X_train, y_train)\n",
    "grid_gb.best_params_"
   ]
  },
  {
   "cell_type": "code",
   "execution_count": 67,
   "metadata": {
    "tags": []
   },
   "outputs": [
    {
     "output_type": "stream",
     "name": "stdout",
     "text": "Train Accuracy score:  0.818976279650437\nTest Accuracy score:  0.8\nF1 score:  0.71875\n"
    }
   ],
   "source": [
    "classifier_gb = GradientBoostingClassifier(learning_rate = 0.025, max_depth = 10, n_estimators = 30, min_samples_leaf=20, min_samples_split=10)\n",
    "classifier_gb.fit(X_train, y_train)\n",
    "\n",
    "train_score_gb = classifier_gb.score(X_train, y_train)\n",
    "test_score_gb = classifier_gb.score(X_test, y_test)\n",
    "y_pred_gb = classifier_gb.predict(X_test)\n",
    "f1_score_gb = f1_score(y_test, y_pred_gb)\n",
    "\n",
    "print('Train Accuracy score: ',train_score_gb)\n",
    "print('Test Accuracy score: ',test_score_gb)\n",
    "print('F1 score: ',f1_score_gb)"
   ]
  },
  {
   "cell_type": "markdown",
   "metadata": {},
   "source": [
    "### Kaggle Submission   "
   ]
  },
  {
   "cell_type": "code",
   "execution_count": null,
   "metadata": {},
   "outputs": [],
   "source": []
  },
  {
   "cell_type": "code",
   "execution_count": null,
   "metadata": {
    "tags": []
   },
   "outputs": [],
   "source": [
    "test_df.info()"
   ]
  },
  {
   "cell_type": "code",
   "execution_count": 83,
   "metadata": {},
   "outputs": [],
   "source": [
    "df_dict = {}\n",
    "df_dict['PassengerId'] =  list(passengerIDs)\n",
    "df_dict['Survived'] = svc.predict(test_df)\n",
    "final_df = pd.DataFrame.from_dict(df_dict)"
   ]
  },
  {
   "cell_type": "code",
   "execution_count": 84,
   "metadata": {},
   "outputs": [],
   "source": [
    "final_df.to_csv('Final.csv', index=False)"
   ]
  },
  {
   "cell_type": "code",
   "execution_count": null,
   "metadata": {},
   "outputs": [],
   "source": []
  }
 ],
 "metadata": {
  "language_info": {
   "codemirror_mode": {
    "name": "ipython",
    "version": 3
   },
   "file_extension": ".py",
   "mimetype": "text/x-python",
   "name": "python",
   "nbconvert_exporter": "python",
   "pygments_lexer": "ipython3",
   "version": 3
  },
  "orig_nbformat": 2,
  "kernelspec": {
   "name": "python_defaultSpec_1606953806835",
   "display_name": "Python 3.7.4 64-bit ('base': conda)"
  }
 },
 "nbformat": 4,
 "nbformat_minor": 2
}